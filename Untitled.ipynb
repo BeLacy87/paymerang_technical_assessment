{
 "cells": [
  {
   "cell_type": "code",
   "execution_count": 39,
   "metadata": {},
   "outputs": [],
   "source": [
    "import pandas as pd\n",
    "import json"
   ]
  },
  {
   "cell_type": "code",
   "execution_count": 40,
   "metadata": {},
   "outputs": [],
   "source": [
    "with open(\"payment_info.json\", \"r\") as read_file:\n",
    "    data = json.load(read_file)"
   ]
  },
  {
   "cell_type": "code",
   "execution_count": 41,
   "metadata": {},
   "outputs": [
    {
     "data": {
      "text/plain": [
       "[{'payment': {'vendor': {'name': 'Amazon Web Service, Inc.',\n",
       "    'address': '410 Terry Avenue North',\n",
       "    'address2': '',\n",
       "    'city': 'Seattle',\n",
       "    'state': 'WA',\n",
       "    'zip': '98109-5210',\n",
       "    'industry': 'Computer Integrated Systems Design'},\n",
       "   'remittance': [{'invoice_number': 'inv# 509193',\n",
       "     'invoice_date': '2020-09-07',\n",
       "     'description': 'premium support',\n",
       "     'amount': 4000},\n",
       "    {'invoice_number': 'inv# 939032',\n",
       "     'invoice_date': '2020-09-10',\n",
       "     'description': 'hosting fees',\n",
       "     'amount': 6000}]}},\n",
       " {'payment': {'vendor': {'name': 'Tazza',\n",
       "    'address': '1244 Alverser Plaza,',\n",
       "    'address2': '',\n",
       "    'city': 'Midlothian',\n",
       "    'state': 'VA',\n",
       "    'zip': '23113',\n",
       "    'industry': 'Restaurant'},\n",
       "   'remittance': [{'invoice_number': '20201205',\n",
       "     'invoice_date': '2020-12-05',\n",
       "     'description': 'Holiday Party',\n",
       "     'amount': 3200.45}]}},\n",
       " {'payment': {'vendor': {'name': 'Apple',\n",
       "    'address': 'One Infinite Loop',\n",
       "    'address2': '',\n",
       "    'city': 'Cupertino',\n",
       "    'state': 'CA',\n",
       "    'zip': '95014',\n",
       "    'industry': 'Software Services'},\n",
       "   'remittance': [{'invoice_number': 'abcde-1001',\n",
       "     'invoice_date': '2020-12-20',\n",
       "     'description': 'iPhone Xs for staff',\n",
       "     'amount': 8020.45}]}},\n",
       " {'payment': {'vendor': {'name': 'Microsoft',\n",
       "    'address': 'One Microsoft Way',\n",
       "    'address2': 'Suite 1#',\n",
       "    'city': 'Redmond',\n",
       "    'state': 'WA',\n",
       "    'zip': '98052',\n",
       "    'industry': 'Software Services'},\n",
       "   'remittance': [{'invoice_number': '0192-5096',\n",
       "     'invoice_date': '2020-12-20',\n",
       "     'description': 'Microsoft monthly fees | IT',\n",
       "     'amount': 900.99},\n",
       "    {'invoice_number': '0192-5097',\n",
       "     'invoice_date': '2020-12-18',\n",
       "     'description': 'Microsoft monthly fees | Finance',\n",
       "     'amount': 900.99},\n",
       "    {'invoice_number': '0192-5098',\n",
       "     'invoice_date': '2020-12-18',\n",
       "     'description': 'Microsoft monthly fees | Operations',\n",
       "     'amount': 900.99},\n",
       "    {'invoice_number': '0192-5099',\n",
       "     'invoice_date': '2020-12-19',\n",
       "     'description': 'Microsoft monthly fees | Sales',\n",
       "     'amount': 900.99}]}},\n",
       " {'payment': {'vendor': {'name': 'Fraud Busters',\n",
       "    'address': '123 Fictitious Ln',\n",
       "    'address2': '',\n",
       "    'city': 'Richmond',\n",
       "    'state': 'VA',\n",
       "    'zip': '23235',\n",
       "    'industry': 'Security Systems Services'},\n",
       "   'remittance': [{'invoice_number': '513',\n",
       "     'invoice_date': '2020-12-16',\n",
       "     'description': 'Fraud analytics software fees',\n",
       "     'amount': 100.01},\n",
       "    {'invoice_number': '0192-5097',\n",
       "     'invoice_date': '2020-12-18',\n",
       "     'description': 'Thread detection monitoring fees',\n",
       "     'amount': 100.03},\n",
       "    {'invoice_number': '515',\n",
       "     'invoice_date': '2020-12-16',\n",
       "     'description': 'DAST Software',\n",
       "     'amount': 100.04}]}},\n",
       " {'payment': {'vendor': {'name': 'Github',\n",
       "    'address': '88 Colin P Kelly Junior Street',\n",
       "    'address2': '',\n",
       "    'city': 'San Franciscoo',\n",
       "    'state': 'CA',\n",
       "    'zip': '94107',\n",
       "    'industry': 'Software Services'},\n",
       "   'remittance': [{'invoice_number': 'inv#-20201214-a',\n",
       "     'invoice_date': '2020-12-14',\n",
       "     'description': 'Version Control for AppDev',\n",
       "     'amount': 340}]}}]"
      ]
     },
     "execution_count": 41,
     "metadata": {},
     "output_type": "execute_result"
    }
   ],
   "source": [
    "data"
   ]
  },
  {
   "cell_type": "code",
   "execution_count": 42,
   "metadata": {},
   "outputs": [
    {
     "data": {
      "text/plain": [
       "[{'invoice_number': 'inv# 509193',\n",
       "  'invoice_date': '2020-09-07',\n",
       "  'description': 'premium support',\n",
       "  'amount': 4000},\n",
       " {'invoice_number': 'inv# 939032',\n",
       "  'invoice_date': '2020-09-10',\n",
       "  'description': 'hosting fees',\n",
       "  'amount': 6000}]"
      ]
     },
     "execution_count": 42,
     "metadata": {},
     "output_type": "execute_result"
    }
   ],
   "source": [
    "data[0]['payment']['remittance']"
   ]
  },
  {
   "cell_type": "code",
   "execution_count": 62,
   "metadata": {},
   "outputs": [
    {
     "name": "stdout",
     "output_type": "stream",
     "text": [
      "Amazon Web Service, Inc.\n",
      "10000\n",
      "Tazza\n",
      "3200.45\n",
      "Apple\n",
      "8020.45\n",
      "Microsoft\n",
      "3603.96\n",
      "Fraud Busters\n",
      "300.08000000000004\n",
      "Github\n",
      "340\n"
     ]
    }
   ],
   "source": [
    "for i in data:\n",
    "    print (i['payment']['vendor']['name'])\n",
    "    i['payment'].update({})\n",
    "    total = 0\n",
    "    remittance = i['payment']['remittance']\n",
    "    for x in remittance:\n",
    "        total += x['amount']\n",
    "    print(total)\n",
    "    i['payment'].update({'total_amount': total})\n"
   ]
  },
  {
   "cell_type": "code",
   "execution_count": 63,
   "metadata": {},
   "outputs": [
    {
     "data": {
      "text/plain": [
       "[{'payment': {'vendor': {'name': 'Amazon Web Service, Inc.',\n",
       "    'address': '410 Terry Avenue North',\n",
       "    'address2': '',\n",
       "    'city': 'Seattle',\n",
       "    'state': 'WA',\n",
       "    'zip': '98109-5210',\n",
       "    'industry': 'Computer Integrated Systems Design'},\n",
       "   'remittance': [{'invoice_number': 'inv# 509193',\n",
       "     'invoice_date': '2020-09-07',\n",
       "     'description': 'premium support',\n",
       "     'amount': 4000},\n",
       "    {'invoice_number': 'inv# 939032',\n",
       "     'invoice_date': '2020-09-10',\n",
       "     'description': 'hosting fees',\n",
       "     'amount': 6000}],\n",
       "   'total_amount': 10000}},\n",
       " {'payment': {'vendor': {'name': 'Tazza',\n",
       "    'address': '1244 Alverser Plaza,',\n",
       "    'address2': '',\n",
       "    'city': 'Midlothian',\n",
       "    'state': 'VA',\n",
       "    'zip': '23113',\n",
       "    'industry': 'Restaurant'},\n",
       "   'remittance': [{'invoice_number': '20201205',\n",
       "     'invoice_date': '2020-12-05',\n",
       "     'description': 'Holiday Party',\n",
       "     'amount': 3200.45}],\n",
       "   'total_amount': 3200.45}},\n",
       " {'payment': {'vendor': {'name': 'Apple',\n",
       "    'address': 'One Infinite Loop',\n",
       "    'address2': '',\n",
       "    'city': 'Cupertino',\n",
       "    'state': 'CA',\n",
       "    'zip': '95014',\n",
       "    'industry': 'Software Services'},\n",
       "   'remittance': [{'invoice_number': 'abcde-1001',\n",
       "     'invoice_date': '2020-12-20',\n",
       "     'description': 'iPhone Xs for staff',\n",
       "     'amount': 8020.45}],\n",
       "   'total_amount': 8020.45}},\n",
       " {'payment': {'vendor': {'name': 'Microsoft',\n",
       "    'address': 'One Microsoft Way',\n",
       "    'address2': 'Suite 1#',\n",
       "    'city': 'Redmond',\n",
       "    'state': 'WA',\n",
       "    'zip': '98052',\n",
       "    'industry': 'Software Services'},\n",
       "   'remittance': [{'invoice_number': '0192-5096',\n",
       "     'invoice_date': '2020-12-20',\n",
       "     'description': 'Microsoft monthly fees | IT',\n",
       "     'amount': 900.99},\n",
       "    {'invoice_number': '0192-5097',\n",
       "     'invoice_date': '2020-12-18',\n",
       "     'description': 'Microsoft monthly fees | Finance',\n",
       "     'amount': 900.99},\n",
       "    {'invoice_number': '0192-5098',\n",
       "     'invoice_date': '2020-12-18',\n",
       "     'description': 'Microsoft monthly fees | Operations',\n",
       "     'amount': 900.99},\n",
       "    {'invoice_number': '0192-5099',\n",
       "     'invoice_date': '2020-12-19',\n",
       "     'description': 'Microsoft monthly fees | Sales',\n",
       "     'amount': 900.99}],\n",
       "   'total_amount': 3603.96}},\n",
       " {'payment': {'vendor': {'name': 'Fraud Busters',\n",
       "    'address': '123 Fictitious Ln',\n",
       "    'address2': '',\n",
       "    'city': 'Richmond',\n",
       "    'state': 'VA',\n",
       "    'zip': '23235',\n",
       "    'industry': 'Security Systems Services'},\n",
       "   'remittance': [{'invoice_number': '513',\n",
       "     'invoice_date': '2020-12-16',\n",
       "     'description': 'Fraud analytics software fees',\n",
       "     'amount': 100.01},\n",
       "    {'invoice_number': '0192-5097',\n",
       "     'invoice_date': '2020-12-18',\n",
       "     'description': 'Thread detection monitoring fees',\n",
       "     'amount': 100.03},\n",
       "    {'invoice_number': '515',\n",
       "     'invoice_date': '2020-12-16',\n",
       "     'description': 'DAST Software',\n",
       "     'amount': 100.04}],\n",
       "   'total_amount': 300.08000000000004}},\n",
       " {'payment': {'vendor': {'name': 'Github',\n",
       "    'address': '88 Colin P Kelly Junior Street',\n",
       "    'address2': '',\n",
       "    'city': 'San Franciscoo',\n",
       "    'state': 'CA',\n",
       "    'zip': '94107',\n",
       "    'industry': 'Software Services'},\n",
       "   'remittance': [{'invoice_number': 'inv#-20201214-a',\n",
       "     'invoice_date': '2020-12-14',\n",
       "     'description': 'Version Control for AppDev',\n",
       "     'amount': 340}],\n",
       "   'total_amount': 340}}]"
      ]
     },
     "execution_count": 63,
     "metadata": {},
     "output_type": "execute_result"
    }
   ],
   "source": [
    "data"
   ]
  },
  {
   "cell_type": "code",
   "execution_count": 55,
   "metadata": {},
   "outputs": [
    {
     "data": {
      "text/plain": [
       "dict_values([{'vendor': {'name': 'Amazon Web Service, Inc.', 'address': '410 Terry Avenue North', 'address2': '', 'city': 'Seattle', 'state': 'WA', 'zip': '98109-5210', 'industry': 'Computer Integrated Systems Design'}, 'remittance': [{'invoice_number': 'inv# 509193', 'invoice_date': '2020-09-07', 'description': 'premium support', 'amount': 4000}, {'invoice_number': 'inv# 939032', 'invoice_date': '2020-09-10', 'description': 'hosting fees', 'amount': 6000}]}])"
      ]
     },
     "execution_count": 55,
     "metadata": {},
     "output_type": "execute_result"
    }
   ],
   "source": [
    "data[0].values()"
   ]
  },
  {
   "cell_type": "code",
   "execution_count": null,
   "metadata": {},
   "outputs": [],
   "source": []
  }
 ],
 "metadata": {
  "kernelspec": {
   "display_name": "Python 3",
   "language": "python",
   "name": "python3"
  },
  "language_info": {
   "codemirror_mode": {
    "name": "ipython",
    "version": 3
   },
   "file_extension": ".py",
   "mimetype": "text/x-python",
   "name": "python",
   "nbconvert_exporter": "python",
   "pygments_lexer": "ipython3",
   "version": "3.7.6"
  }
 },
 "nbformat": 4,
 "nbformat_minor": 4
}
